{
 "cells": [
  {
   "cell_type": "markdown",
   "id": "bd9c44f8",
   "metadata": {},
   "source": [
    "#    Analiza skupa podataka Bitcoin Heist"
   ]
  },
  {
   "cell_type": "code",
   "execution_count": 2,
   "id": "5ba39176",
   "metadata": {},
   "outputs": [],
   "source": [
    "Skup podataka sadrzi 2916697 instanci i 10 atributa\n",
    "\n",
    "Atributi:\n",
    ">* Address: String koji oznacava adresu transakcije\n",
    ">* Year: int64 koji oznacava godinu transakcije\n",
    ">* Day: int64 koji oznacava dan transakcije\n",
    ">* Length: broj transakcija koje nisu pocetne na najduzem lancu\n",
    ">* Count: broj pocetnih transakcija koje su povezane sa adresom  \n",
    ">* Neighbors: broj transakcija koje imaju ovu adresu kao izlaznu\n",
    ">* Weight: suma svih tokena koji dolaze sa pocetne transakcije na ovu adresu  \n",
    ">* Looped: broj pocetnih transakcija koje su povezane sa ovom adresom sa vise direktnih puteva \n",
    ">* Income: broj koji cuva kolicinu Satoshija (1 Bitcoin = 100 miliona Satoshija, 1 satoshi je najmanja jedinica bitkoina )   \n",
    ">* Label: string koji oznacava prirodu transakcije (Ransomware: 29 porodica i White: legitimne transakcije)\n",
    "\n",
    "Link ka podacima: https://archive.ics.uci.edu/ml/datasets/BitcoinHeistRansomwareAddressDataset\n",
    "\n"
   ]
  },
  {
   "cell_type": "code",
   "execution_count": 15,
   "id": "7d8055fa",
   "metadata": {},
   "outputs": [],
   "source": [
    "import pandas as pd\n",
    "import numpy as np\n",
    "import matplotlib.pyplot as plt\n",
    "import seaborn as sb\n"
   ]
  },
  {
   "cell_type": "code",
   "execution_count": 3,
   "id": "95b9c699",
   "metadata": {},
   "outputs": [],
   "source": [
    "data = pd.read_csv(\"./data/BitcoinHeistData.csv\")"
   ]
  },
  {
   "cell_type": "code",
   "execution_count": 9,
   "id": "4f11c267",
   "metadata": {},
   "outputs": [
    {
     "name": "stdout",
     "output_type": "stream",
     "text": [
      "Index(['address', 'year', 'day', 'length', 'weight', 'count', 'looped',\n",
      "       'neighbors', 'income', 'label'],\n",
      "      dtype='object')\n"
     ]
    }
   ],
   "source": [
    "print(data.columns)"
   ]
  },
  {
   "cell_type": "code",
   "execution_count": 6,
   "id": "24df0fa0",
   "metadata": {},
   "outputs": [
    {
     "data": {
      "text/plain": [
       "(2916697, 10)"
      ]
     },
     "execution_count": 6,
     "metadata": {},
     "output_type": "execute_result"
    }
   ],
   "source": [
    "data.shape\n",
    "#2916697 instanci, 10 kolona"
   ]
  },
  {
   "cell_type": "code",
   "execution_count": 7,
   "id": "c0af93f8",
   "metadata": {},
   "outputs": [
    {
     "name": "stdout",
     "output_type": "stream",
     "text": [
      "<class 'pandas.core.frame.DataFrame'>\n",
      "RangeIndex: 2916697 entries, 0 to 2916696\n",
      "Data columns (total 10 columns):\n",
      " #   Column     Dtype  \n",
      "---  ------     -----  \n",
      " 0   address    object \n",
      " 1   year       int64  \n",
      " 2   day        int64  \n",
      " 3   length     int64  \n",
      " 4   weight     float64\n",
      " 5   count      int64  \n",
      " 6   looped     int64  \n",
      " 7   neighbors  int64  \n",
      " 8   income     float64\n",
      " 9   label      object \n",
      "dtypes: float64(2), int64(6), object(2)\n",
      "memory usage: 222.5+ MB\n"
     ]
    }
   ],
   "source": [
    "data.info()"
   ]
  },
  {
   "cell_type": "code",
   "execution_count": 8,
   "id": "2e037c31",
   "metadata": {},
   "outputs": [],
   "source": [
    "pd.set_option('display.float_format', lambda x: f'{x:.3f}')\n"
   ]
  },
  {
   "cell_type": "code",
   "execution_count": 10,
   "id": "161b67f0",
   "metadata": {},
   "outputs": [
    {
     "data": {
      "text/html": [
       "<div>\n",
       "<style scoped>\n",
       "    .dataframe tbody tr th:only-of-type {\n",
       "        vertical-align: middle;\n",
       "    }\n",
       "\n",
       "    .dataframe tbody tr th {\n",
       "        vertical-align: top;\n",
       "    }\n",
       "\n",
       "    .dataframe thead th {\n",
       "        text-align: right;\n",
       "    }\n",
       "</style>\n",
       "<table border=\"1\" class=\"dataframe\">\n",
       "  <thead>\n",
       "    <tr style=\"text-align: right;\">\n",
       "      <th></th>\n",
       "      <th>year</th>\n",
       "      <th>day</th>\n",
       "      <th>length</th>\n",
       "      <th>weight</th>\n",
       "      <th>count</th>\n",
       "      <th>looped</th>\n",
       "      <th>neighbors</th>\n",
       "      <th>income</th>\n",
       "    </tr>\n",
       "  </thead>\n",
       "  <tbody>\n",
       "    <tr>\n",
       "      <th>count</th>\n",
       "      <td>2916697.000</td>\n",
       "      <td>2916697.000</td>\n",
       "      <td>2916697.000</td>\n",
       "      <td>2916697.000</td>\n",
       "      <td>2916697.000</td>\n",
       "      <td>2916697.000</td>\n",
       "      <td>2916697.000</td>\n",
       "      <td>2916697.000</td>\n",
       "    </tr>\n",
       "    <tr>\n",
       "      <th>mean</th>\n",
       "      <td>2014.475</td>\n",
       "      <td>181.457</td>\n",
       "      <td>45.009</td>\n",
       "      <td>0.546</td>\n",
       "      <td>721.645</td>\n",
       "      <td>238.507</td>\n",
       "      <td>2.207</td>\n",
       "      <td>4464889007.186</td>\n",
       "    </tr>\n",
       "    <tr>\n",
       "      <th>std</th>\n",
       "      <td>2.257</td>\n",
       "      <td>104.012</td>\n",
       "      <td>58.982</td>\n",
       "      <td>3.674</td>\n",
       "      <td>1689.676</td>\n",
       "      <td>966.322</td>\n",
       "      <td>17.919</td>\n",
       "      <td>162685960669.348</td>\n",
       "    </tr>\n",
       "    <tr>\n",
       "      <th>min</th>\n",
       "      <td>2011.000</td>\n",
       "      <td>1.000</td>\n",
       "      <td>0.000</td>\n",
       "      <td>0.000</td>\n",
       "      <td>1.000</td>\n",
       "      <td>0.000</td>\n",
       "      <td>1.000</td>\n",
       "      <td>30000000.000</td>\n",
       "    </tr>\n",
       "    <tr>\n",
       "      <th>25%</th>\n",
       "      <td>2013.000</td>\n",
       "      <td>92.000</td>\n",
       "      <td>2.000</td>\n",
       "      <td>0.021</td>\n",
       "      <td>1.000</td>\n",
       "      <td>0.000</td>\n",
       "      <td>1.000</td>\n",
       "      <td>74285590.000</td>\n",
       "    </tr>\n",
       "    <tr>\n",
       "      <th>50%</th>\n",
       "      <td>2014.000</td>\n",
       "      <td>181.000</td>\n",
       "      <td>8.000</td>\n",
       "      <td>0.250</td>\n",
       "      <td>1.000</td>\n",
       "      <td>0.000</td>\n",
       "      <td>2.000</td>\n",
       "      <td>199998518.000</td>\n",
       "    </tr>\n",
       "    <tr>\n",
       "      <th>75%</th>\n",
       "      <td>2016.000</td>\n",
       "      <td>271.000</td>\n",
       "      <td>108.000</td>\n",
       "      <td>0.882</td>\n",
       "      <td>56.000</td>\n",
       "      <td>0.000</td>\n",
       "      <td>2.000</td>\n",
       "      <td>994000000.000</td>\n",
       "    </tr>\n",
       "    <tr>\n",
       "      <th>max</th>\n",
       "      <td>2018.000</td>\n",
       "      <td>365.000</td>\n",
       "      <td>144.000</td>\n",
       "      <td>1943.749</td>\n",
       "      <td>14497.000</td>\n",
       "      <td>14496.000</td>\n",
       "      <td>12920.000</td>\n",
       "      <td>49964398238996.000</td>\n",
       "    </tr>\n",
       "  </tbody>\n",
       "</table>\n",
       "</div>"
      ],
      "text/plain": [
       "             year         day      length      weight       count      looped   \n",
       "count 2916697.000 2916697.000 2916697.000 2916697.000 2916697.000 2916697.000  \\\n",
       "mean     2014.475     181.457      45.009       0.546     721.645     238.507   \n",
       "std         2.257     104.012      58.982       3.674    1689.676     966.322   \n",
       "min      2011.000       1.000       0.000       0.000       1.000       0.000   \n",
       "25%      2013.000      92.000       2.000       0.021       1.000       0.000   \n",
       "50%      2014.000     181.000       8.000       0.250       1.000       0.000   \n",
       "75%      2016.000     271.000     108.000       0.882      56.000       0.000   \n",
       "max      2018.000     365.000     144.000    1943.749   14497.000   14496.000   \n",
       "\n",
       "        neighbors             income  \n",
       "count 2916697.000        2916697.000  \n",
       "mean        2.207     4464889007.186  \n",
       "std        17.919   162685960669.348  \n",
       "min         1.000       30000000.000  \n",
       "25%         1.000       74285590.000  \n",
       "50%         2.000      199998518.000  \n",
       "75%         2.000      994000000.000  \n",
       "max     12920.000 49964398238996.000  "
      ]
     },
     "execution_count": 10,
     "metadata": {},
     "output_type": "execute_result"
    }
   ],
   "source": [
    "data.describe()"
   ]
  },
  {
   "cell_type": "code",
   "execution_count": 11,
   "id": "d5f8529a",
   "metadata": {},
   "outputs": [
    {
     "data": {
      "text/html": [
       "<div>\n",
       "<style scoped>\n",
       "    .dataframe tbody tr th:only-of-type {\n",
       "        vertical-align: middle;\n",
       "    }\n",
       "\n",
       "    .dataframe tbody tr th {\n",
       "        vertical-align: top;\n",
       "    }\n",
       "\n",
       "    .dataframe thead th {\n",
       "        text-align: right;\n",
       "    }\n",
       "</style>\n",
       "<table border=\"1\" class=\"dataframe\">\n",
       "  <thead>\n",
       "    <tr style=\"text-align: right;\">\n",
       "      <th></th>\n",
       "      <th>address</th>\n",
       "      <th>year</th>\n",
       "      <th>day</th>\n",
       "      <th>length</th>\n",
       "      <th>weight</th>\n",
       "      <th>count</th>\n",
       "      <th>looped</th>\n",
       "      <th>neighbors</th>\n",
       "      <th>income</th>\n",
       "      <th>label</th>\n",
       "    </tr>\n",
       "  </thead>\n",
       "  <tbody>\n",
       "    <tr>\n",
       "      <th>0</th>\n",
       "      <td>111K8kZAEnJg245r2cM6y9zgJGHZtJPy6</td>\n",
       "      <td>2017</td>\n",
       "      <td>11</td>\n",
       "      <td>18</td>\n",
       "      <td>0.008</td>\n",
       "      <td>1</td>\n",
       "      <td>0</td>\n",
       "      <td>2</td>\n",
       "      <td>100050000.000</td>\n",
       "      <td>princetonCerber</td>\n",
       "    </tr>\n",
       "    <tr>\n",
       "      <th>1</th>\n",
       "      <td>1123pJv8jzeFQaCV4w644pzQJzVWay2zcA</td>\n",
       "      <td>2016</td>\n",
       "      <td>132</td>\n",
       "      <td>44</td>\n",
       "      <td>0.000</td>\n",
       "      <td>1</td>\n",
       "      <td>0</td>\n",
       "      <td>1</td>\n",
       "      <td>100000000.000</td>\n",
       "      <td>princetonLocky</td>\n",
       "    </tr>\n",
       "    <tr>\n",
       "      <th>2</th>\n",
       "      <td>112536im7hy6wtKbpH1qYDWtTyMRAcA2p7</td>\n",
       "      <td>2016</td>\n",
       "      <td>246</td>\n",
       "      <td>0</td>\n",
       "      <td>1.000</td>\n",
       "      <td>1</td>\n",
       "      <td>0</td>\n",
       "      <td>2</td>\n",
       "      <td>200000000.000</td>\n",
       "      <td>princetonCerber</td>\n",
       "    </tr>\n",
       "    <tr>\n",
       "      <th>3</th>\n",
       "      <td>1126eDRw2wqSkWosjTCre8cjjQW8sSeWH7</td>\n",
       "      <td>2016</td>\n",
       "      <td>322</td>\n",
       "      <td>72</td>\n",
       "      <td>0.004</td>\n",
       "      <td>1</td>\n",
       "      <td>0</td>\n",
       "      <td>2</td>\n",
       "      <td>71200000.000</td>\n",
       "      <td>princetonCerber</td>\n",
       "    </tr>\n",
       "    <tr>\n",
       "      <th>4</th>\n",
       "      <td>1129TSjKtx65E35GiUo4AYVeyo48twbrGX</td>\n",
       "      <td>2016</td>\n",
       "      <td>238</td>\n",
       "      <td>144</td>\n",
       "      <td>0.073</td>\n",
       "      <td>456</td>\n",
       "      <td>0</td>\n",
       "      <td>1</td>\n",
       "      <td>200000000.000</td>\n",
       "      <td>princetonLocky</td>\n",
       "    </tr>\n",
       "  </tbody>\n",
       "</table>\n",
       "</div>"
      ],
      "text/plain": [
       "                              address  year  day  length  weight  count   \n",
       "0   111K8kZAEnJg245r2cM6y9zgJGHZtJPy6  2017   11      18   0.008      1  \\\n",
       "1  1123pJv8jzeFQaCV4w644pzQJzVWay2zcA  2016  132      44   0.000      1   \n",
       "2  112536im7hy6wtKbpH1qYDWtTyMRAcA2p7  2016  246       0   1.000      1   \n",
       "3  1126eDRw2wqSkWosjTCre8cjjQW8sSeWH7  2016  322      72   0.004      1   \n",
       "4  1129TSjKtx65E35GiUo4AYVeyo48twbrGX  2016  238     144   0.073    456   \n",
       "\n",
       "   looped  neighbors        income            label  \n",
       "0       0          2 100050000.000  princetonCerber  \n",
       "1       0          1 100000000.000   princetonLocky  \n",
       "2       0          2 200000000.000  princetonCerber  \n",
       "3       0          2  71200000.000  princetonCerber  \n",
       "4       0          1 200000000.000   princetonLocky  "
      ]
     },
     "execution_count": 11,
     "metadata": {},
     "output_type": "execute_result"
    }
   ],
   "source": [
    "data.head()"
   ]
  },
  {
   "cell_type": "code",
   "execution_count": 12,
   "id": "540ebb23",
   "metadata": {
    "scrolled": true
   },
   "outputs": [
    {
     "data": {
      "text/html": [
       "<div>\n",
       "<style scoped>\n",
       "    .dataframe tbody tr th:only-of-type {\n",
       "        vertical-align: middle;\n",
       "    }\n",
       "\n",
       "    .dataframe tbody tr th {\n",
       "        vertical-align: top;\n",
       "    }\n",
       "\n",
       "    .dataframe thead th {\n",
       "        text-align: right;\n",
       "    }\n",
       "</style>\n",
       "<table border=\"1\" class=\"dataframe\">\n",
       "  <thead>\n",
       "    <tr style=\"text-align: right;\">\n",
       "      <th></th>\n",
       "      <th>address</th>\n",
       "      <th>year</th>\n",
       "      <th>day</th>\n",
       "      <th>length</th>\n",
       "      <th>weight</th>\n",
       "      <th>count</th>\n",
       "      <th>looped</th>\n",
       "      <th>neighbors</th>\n",
       "      <th>income</th>\n",
       "      <th>label</th>\n",
       "    </tr>\n",
       "  </thead>\n",
       "  <tbody>\n",
       "    <tr>\n",
       "      <th>2916692</th>\n",
       "      <td>12D3trgho1vJ4mGtWBRPyHdMJK96TRYSry</td>\n",
       "      <td>2018</td>\n",
       "      <td>330</td>\n",
       "      <td>0</td>\n",
       "      <td>0.111</td>\n",
       "      <td>1</td>\n",
       "      <td>0</td>\n",
       "      <td>1</td>\n",
       "      <td>1255809432.000</td>\n",
       "      <td>white</td>\n",
       "    </tr>\n",
       "    <tr>\n",
       "      <th>2916693</th>\n",
       "      <td>1P7PputTcVkhXBmXBvSD9MJ3UYPsiou1u2</td>\n",
       "      <td>2018</td>\n",
       "      <td>330</td>\n",
       "      <td>0</td>\n",
       "      <td>1.000</td>\n",
       "      <td>1</td>\n",
       "      <td>0</td>\n",
       "      <td>1</td>\n",
       "      <td>44096991.000</td>\n",
       "      <td>white</td>\n",
       "    </tr>\n",
       "    <tr>\n",
       "      <th>2916694</th>\n",
       "      <td>1KYiKJEfdJtap9QX2v9BXJMpz2SfU4pgZw</td>\n",
       "      <td>2018</td>\n",
       "      <td>330</td>\n",
       "      <td>2</td>\n",
       "      <td>12.000</td>\n",
       "      <td>6</td>\n",
       "      <td>6</td>\n",
       "      <td>35</td>\n",
       "      <td>2398267286.000</td>\n",
       "      <td>white</td>\n",
       "    </tr>\n",
       "    <tr>\n",
       "      <th>2916695</th>\n",
       "      <td>15iPUJsRNZQZHmZZVwmQ63srsmughCXV4a</td>\n",
       "      <td>2018</td>\n",
       "      <td>330</td>\n",
       "      <td>0</td>\n",
       "      <td>0.500</td>\n",
       "      <td>1</td>\n",
       "      <td>0</td>\n",
       "      <td>1</td>\n",
       "      <td>178042670.000</td>\n",
       "      <td>white</td>\n",
       "    </tr>\n",
       "    <tr>\n",
       "      <th>2916696</th>\n",
       "      <td>3LFFBxp15h9KSFtaw55np8eP5fv6kdK17e</td>\n",
       "      <td>2018</td>\n",
       "      <td>330</td>\n",
       "      <td>144</td>\n",
       "      <td>0.074</td>\n",
       "      <td>6800</td>\n",
       "      <td>0</td>\n",
       "      <td>2</td>\n",
       "      <td>112350000.000</td>\n",
       "      <td>white</td>\n",
       "    </tr>\n",
       "  </tbody>\n",
       "</table>\n",
       "</div>"
      ],
      "text/plain": [
       "                                    address  year  day  length  weight  count   \n",
       "2916692  12D3trgho1vJ4mGtWBRPyHdMJK96TRYSry  2018  330       0   0.111      1  \\\n",
       "2916693  1P7PputTcVkhXBmXBvSD9MJ3UYPsiou1u2  2018  330       0   1.000      1   \n",
       "2916694  1KYiKJEfdJtap9QX2v9BXJMpz2SfU4pgZw  2018  330       2  12.000      6   \n",
       "2916695  15iPUJsRNZQZHmZZVwmQ63srsmughCXV4a  2018  330       0   0.500      1   \n",
       "2916696  3LFFBxp15h9KSFtaw55np8eP5fv6kdK17e  2018  330     144   0.074   6800   \n",
       "\n",
       "         looped  neighbors         income  label  \n",
       "2916692       0          1 1255809432.000  white  \n",
       "2916693       0          1   44096991.000  white  \n",
       "2916694       6         35 2398267286.000  white  \n",
       "2916695       0          1  178042670.000  white  \n",
       "2916696       0          2  112350000.000  white  "
      ]
     },
     "execution_count": 12,
     "metadata": {},
     "output_type": "execute_result"
    }
   ],
   "source": [
    "data.tail()"
   ]
  },
  {
   "cell_type": "code",
   "execution_count": 13,
   "id": "3a2a39b0",
   "metadata": {},
   "outputs": [
    {
     "data": {
      "text/plain": [
       "address      0\n",
       "year         0\n",
       "day          0\n",
       "length       0\n",
       "weight       0\n",
       "count        0\n",
       "looped       0\n",
       "neighbors    0\n",
       "income       0\n",
       "label        0\n",
       "dtype: int64"
      ]
     },
     "execution_count": 13,
     "metadata": {},
     "output_type": "execute_result"
    }
   ],
   "source": [
    "data.isna().sum()\n",
    "# nema nepoznatih vrednosti"
   ]
  },
  {
   "cell_type": "code",
   "execution_count": 14,
   "id": "344f7fd0",
   "metadata": {},
   "outputs": [
    {
     "data": {
      "text/plain": [
       "count          2916697.000\n",
       "mean        4464889007.186\n",
       "std       162685960669.348\n",
       "min           30000000.000\n",
       "25%           74285590.000\n",
       "50%          199998518.000\n",
       "75%          994000000.000\n",
       "max     49964398238996.000\n",
       "Name: income, dtype: float64"
      ]
     },
     "execution_count": 14,
     "metadata": {},
     "output_type": "execute_result"
    }
   ],
   "source": [
    "data['income'].describe()"
   ]
  },
  {
   "cell_type": "code",
   "execution_count": 15,
   "id": "5dad8b3d",
   "metadata": {},
   "outputs": [
    {
     "data": {
      "text/plain": [
       "count   2916697.000\n",
       "mean       2014.475\n",
       "std           2.257\n",
       "min        2011.000\n",
       "25%        2013.000\n",
       "50%        2014.000\n",
       "75%        2016.000\n",
       "max        2018.000\n",
       "Name: year, dtype: float64"
      ]
     },
     "execution_count": 15,
     "metadata": {},
     "output_type": "execute_result"
    }
   ],
   "source": [
    "data['year'].describe()"
   ]
  },
  {
   "cell_type": "code",
   "execution_count": 16,
   "id": "41e60e71",
   "metadata": {},
   "outputs": [
    {
     "data": {
      "text/plain": [
       "count    2916697.00000\n",
       "mean         181.45721\n",
       "std          104.01184\n",
       "min            1.00000\n",
       "25%           92.00000\n",
       "50%          181.00000\n",
       "75%          271.00000\n",
       "max          365.00000\n",
       "Name: day, dtype: object"
      ]
     },
     "execution_count": 16,
     "metadata": {},
     "output_type": "execute_result"
    }
   ],
   "source": [
    "data['day'].describe().apply(lambda x: '%.5f' % x)"
   ]
  },
  {
   "cell_type": "code",
   "execution_count": 17,
   "id": "80508914",
   "metadata": {},
   "outputs": [
    {
     "data": {
      "text/plain": [
       "count   2916697.000\n",
       "mean         45.009\n",
       "std          58.982\n",
       "min           0.000\n",
       "25%           2.000\n",
       "50%           8.000\n",
       "75%         108.000\n",
       "max         144.000\n",
       "Name: length, dtype: float64"
      ]
     },
     "execution_count": 17,
     "metadata": {},
     "output_type": "execute_result"
    }
   ],
   "source": [
    "data['length'].describe()"
   ]
  },
  {
   "cell_type": "code",
   "execution_count": 18,
   "id": "de8834be",
   "metadata": {},
   "outputs": [
    {
     "data": {
      "text/plain": [
       "count   2916697.000\n",
       "mean          0.546\n",
       "std           3.674\n",
       "min           0.000\n",
       "25%           0.021\n",
       "50%           0.250\n",
       "75%           0.882\n",
       "max        1943.749\n",
       "Name: weight, dtype: float64"
      ]
     },
     "execution_count": 18,
     "metadata": {},
     "output_type": "execute_result"
    }
   ],
   "source": [
    "data['weight'].describe()"
   ]
  },
  {
   "cell_type": "code",
   "execution_count": 19,
   "id": "4935bbea",
   "metadata": {},
   "outputs": [
    {
     "data": {
      "text/plain": [
       "count   2916697.000\n",
       "mean        238.507\n",
       "std         966.322\n",
       "min           0.000\n",
       "25%           0.000\n",
       "50%           0.000\n",
       "75%           0.000\n",
       "max       14496.000\n",
       "Name: looped, dtype: float64"
      ]
     },
     "execution_count": 19,
     "metadata": {},
     "output_type": "execute_result"
    }
   ],
   "source": [
    "data['looped'].describe()"
   ]
  },
  {
   "cell_type": "code",
   "execution_count": 20,
   "id": "c7edce7f",
   "metadata": {},
   "outputs": [
    {
     "data": {
      "text/plain": [
       "count   2916697.000\n",
       "mean        721.645\n",
       "std        1689.676\n",
       "min           1.000\n",
       "25%           1.000\n",
       "50%           1.000\n",
       "75%          56.000\n",
       "max       14497.000\n",
       "Name: count, dtype: float64"
      ]
     },
     "execution_count": 20,
     "metadata": {},
     "output_type": "execute_result"
    }
   ],
   "source": [
    "data['count'].describe()"
   ]
  },
  {
   "cell_type": "code",
   "execution_count": 21,
   "id": "ad996b4c",
   "metadata": {},
   "outputs": [
    {
     "data": {
      "text/plain": [
       "count   2916697.000\n",
       "mean          2.207\n",
       "std          17.919\n",
       "min           1.000\n",
       "25%           1.000\n",
       "50%           2.000\n",
       "75%           2.000\n",
       "max       12920.000\n",
       "Name: neighbors, dtype: float64"
      ]
     },
     "execution_count": 21,
     "metadata": {},
     "output_type": "execute_result"
    }
   ],
   "source": [
    "data['neighbors'].describe()"
   ]
  },
  {
   "cell_type": "code",
   "execution_count": 22,
   "id": "6ad2dc77",
   "metadata": {},
   "outputs": [
    {
     "data": {
      "text/plain": [
       "label\n",
       "white                          2875284\n",
       "paduaCryptoWall                  12390\n",
       "montrealCryptoLocker              9315\n",
       "princetonCerber                   9223\n",
       "princetonLocky                    6625\n",
       "montrealCryptXXX                  2419\n",
       "montrealNoobCrypt                  483\n",
       "montrealDMALockerv3                354\n",
       "montrealDMALocker                  251\n",
       "montrealSamSam                      62\n",
       "montrealCryptoTorLocker2015         55\n",
       "montrealGlobeImposter               55\n",
       "montrealGlobev3                     34\n",
       "montrealGlobe                       32\n",
       "montrealWannaCry                    28\n",
       "montrealRazy                        13\n",
       "montrealAPT                         11\n",
       "paduaKeRanger                       10\n",
       "montrealFlyper                       9\n",
       "montrealXTPLocker                    8\n",
       "montrealXLockerv5.0                  7\n",
       "montrealVenusLocker                  7\n",
       "montrealCryptConsole                 7\n",
       "montrealEDA2                         6\n",
       "montrealJigSaw                       4\n",
       "paduaJigsaw                          2\n",
       "montrealXLocker                      1\n",
       "montrealSam                          1\n",
       "montrealComradeCircle                1\n",
       "Name: count, dtype: int64"
      ]
     },
     "execution_count": 22,
     "metadata": {},
     "output_type": "execute_result"
    }
   ],
   "source": [
    "data['label'].value_counts()"
   ]
  },
  {
   "cell_type": "code",
   "execution_count": 23,
   "id": "db8660bc",
   "metadata": {},
   "outputs": [
    {
     "data": {
      "text/html": [
       "<div>\n",
       "<style scoped>\n",
       "    .dataframe tbody tr th:only-of-type {\n",
       "        vertical-align: middle;\n",
       "    }\n",
       "\n",
       "    .dataframe tbody tr th {\n",
       "        vertical-align: top;\n",
       "    }\n",
       "\n",
       "    .dataframe thead th {\n",
       "        text-align: right;\n",
       "    }\n",
       "</style>\n",
       "<table border=\"1\" class=\"dataframe\">\n",
       "  <thead>\n",
       "    <tr style=\"text-align: right;\">\n",
       "      <th></th>\n",
       "      <th>length</th>\n",
       "      <th>weight</th>\n",
       "      <th>count</th>\n",
       "      <th>looped</th>\n",
       "      <th>neighbors</th>\n",
       "      <th>income</th>\n",
       "    </tr>\n",
       "  </thead>\n",
       "  <tbody>\n",
       "    <tr>\n",
       "      <th>length</th>\n",
       "      <td>1.000</td>\n",
       "      <td>0.000</td>\n",
       "      <td>0.703</td>\n",
       "      <td>0.412</td>\n",
       "      <td>0.032</td>\n",
       "      <td>0.000</td>\n",
       "    </tr>\n",
       "    <tr>\n",
       "      <th>weight</th>\n",
       "      <td>0.000</td>\n",
       "      <td>1.000</td>\n",
       "      <td>0.022</td>\n",
       "      <td>0.062</td>\n",
       "      <td>0.692</td>\n",
       "      <td>0.070</td>\n",
       "    </tr>\n",
       "    <tr>\n",
       "      <th>count</th>\n",
       "      <td>0.703</td>\n",
       "      <td>0.022</td>\n",
       "      <td>1.000</td>\n",
       "      <td>0.560</td>\n",
       "      <td>0.025</td>\n",
       "      <td>-0.004</td>\n",
       "    </tr>\n",
       "    <tr>\n",
       "      <th>looped</th>\n",
       "      <td>0.412</td>\n",
       "      <td>0.062</td>\n",
       "      <td>0.560</td>\n",
       "      <td>1.000</td>\n",
       "      <td>0.053</td>\n",
       "      <td>0.003</td>\n",
       "    </tr>\n",
       "    <tr>\n",
       "      <th>neighbors</th>\n",
       "      <td>0.032</td>\n",
       "      <td>0.692</td>\n",
       "      <td>0.025</td>\n",
       "      <td>0.053</td>\n",
       "      <td>1.000</td>\n",
       "      <td>0.139</td>\n",
       "    </tr>\n",
       "    <tr>\n",
       "      <th>income</th>\n",
       "      <td>0.000</td>\n",
       "      <td>0.070</td>\n",
       "      <td>-0.004</td>\n",
       "      <td>0.003</td>\n",
       "      <td>0.139</td>\n",
       "      <td>1.000</td>\n",
       "    </tr>\n",
       "  </tbody>\n",
       "</table>\n",
       "</div>"
      ],
      "text/plain": [
       "           length  weight  count  looped  neighbors  income\n",
       "length      1.000   0.000  0.703   0.412      0.032   0.000\n",
       "weight      0.000   1.000  0.022   0.062      0.692   0.070\n",
       "count       0.703   0.022  1.000   0.560      0.025  -0.004\n",
       "looped      0.412   0.062  0.560   1.000      0.053   0.003\n",
       "neighbors   0.032   0.692  0.025   0.053      1.000   0.139\n",
       "income      0.000   0.070 -0.004   0.003      0.139   1.000"
      ]
     },
     "execution_count": 23,
     "metadata": {},
     "output_type": "execute_result"
    }
   ],
   "source": [
    "correlation = data[['length', 'weight', 'count', 'looped', 'neighbors', 'income']].corr()\n",
    "correlation"
   ]
  },
  {
   "cell_type": "code",
   "execution_count": 24,
   "id": "dd1d9c6b",
   "metadata": {},
   "outputs": [
    {
     "data": {
      "text/plain": [
       "<Axes: >"
      ]
     },
     "execution_count": 24,
     "metadata": {},
     "output_type": "execute_result"
    },
    {
     "data": {
      "image/png": "[encoded data removed]",
      "text/plain": [
       "<Figure size 640x480 with 2 Axes>"
      ]
     },
     "metadata": {},
     "output_type": "display_data"
    }
   ],
   "source": [
    "sb.heatmap(correlation, annot = True)\n",
    "# Ovde mozemo videti interesantne sablone korelacije i antikorelacije i mozemo pretpostaviti\n",
    "# koje ce kolone vise uticati na klasifikaciju a koje manje\n"
   ]
  },
  {
   "cell_type": "code",
   "execution_count": 20,
   "id": "3dc385af",
   "metadata": {},
   "outputs": [
    {
     "data": {
      "image/png": "[encoded data removed]",
      "text/plain": [
       "<Figure size 640x480 with 1 Axes>"
      ]
     },
     "metadata": {},
     "output_type": "display_data"
    }
   ],
   "source": [
    "data['day'].hist(bins = 8)\n",
    "plt.title('day')\n",
    "plt.show()\n"
   ]
  },
  {
   "cell_type": "code",
   "execution_count": 19,
   "id": "9d4d5852",
   "metadata": {},
   "outputs": [
    {
     "data": {
      "image/png": "[encoded data removed]",
      "text/plain": [
       "<Figure size 640x480 with 1 Axes>"
      ]
     },
     "metadata": {},
     "output_type": "display_data"
    }
   ],
   "source": [
    "data['income'].hist(bins = 8)\n",
    "plt.title('income')\n",
    "plt.show()\n"
   ]
  },
  {
   "cell_type": "code",
   "execution_count": 17,
   "id": "bd435495",
   "metadata": {},
   "outputs": [
    {
     "data": {
      "image/png": "[encoded data removed]",
      "text/plain": [
       "<Figure size 640x480 with 1 Axes>"
      ]
     },
     "metadata": {},
     "output_type": "display_data"
    }
   ],
   "source": [
    "data['year'].value_counts().plot(kind='bar')\n",
    "\n",
    "# Add labels and title\n",
    "plt.xlabel('Label')\n",
    "plt.ylabel('Count')\n",
    "plt.title('Distribution of Years in BitcoinHeist Dataset')\n",
    "\n",
    "# Show the plot\n",
    "plt.show()"
   ]
  },
  {
   "cell_type": "code",
   "execution_count": 21,
   "id": "0e403fbd",
   "metadata": {},
   "outputs": [
    {
     "data": {
      "image/png": "[encoded data removed]",
      "text/plain": [
       "<Figure size 640x480 with 1 Axes>"
      ]
     },
     "metadata": {},
     "output_type": "display_data"
    }
   ],
   "source": [
    "data['length'].hist(bins = 8)\n",
    "plt.title('length')\n",
    "plt.show()\n"
   ]
  },
  {
   "cell_type": "code",
   "execution_count": 22,
   "id": "e940a243",
   "metadata": {},
   "outputs": [
    {
     "data": {
      "image/png": "[encoded data removed]",
      "text/plain": [
       "<Figure size 640x480 with 1 Axes>"
      ]
     },
     "metadata": {},
     "output_type": "display_data"
    }
   ],
   "source": [
    "data['weight'].hist(bins = 8)\n",
    "plt.title('weight')\n",
    "plt.show()\n"
   ]
  },
  {
   "cell_type": "code",
   "execution_count": 23,
   "id": "5e2c7a8c",
   "metadata": {},
   "outputs": [
    {
     "data": {
      "image/png": "[encoded data removed]",
      "text/plain": [
       "<Figure size 640x480 with 1 Axes>"
      ]
     },
     "metadata": {},
     "output_type": "display_data"
    }
   ],
   "source": [
    "data['count'].hist(bins = 8)\n",
    "plt.title('count')\n",
    "plt.show()\n"
   ]
  },
  {
   "cell_type": "code",
   "execution_count": 24,
   "id": "86ab4196",
   "metadata": {},
   "outputs": [
    {
     "data": {
      "image/png": "[encoded data removed]",
      "text/plain": [
       "<Figure size 640x480 with 1 Axes>"
      ]
     },
     "metadata": {},
     "output_type": "display_data"
    }
   ],
   "source": [
    "data['looped'].hist(bins = 8)\n",
    "plt.title('looped')\n",
    "plt.show()\n"
   ]
  },
  {
   "cell_type": "code",
   "execution_count": 25,
   "id": "06eab5e0",
   "metadata": {},
   "outputs": [
    {
     "data": {
      "image/png": "[encoded data removed]",
      "text/plain": [
       "<Figure size 640x480 with 1 Axes>"
      ]
     },
     "metadata": {},
     "output_type": "display_data"
    }
   ],
   "source": [
    "data['neighbors'].hist(bins = 8)\n",
    "plt.title('neighbors')\n",
    "plt.show()\n"
   ]
  }
 ],
 "metadata": {
  "kernelspec": {
   "display_name": "Python 3 (ipykernel)",
   "language": "python",
   "name": "python3"
  },
  "language_info": {
   "codemirror_mode": {
    "name": "ipython",
    "version": 3
   },
   "file_extension": ".py",
   "mimetype": "text/x-python",
   "name": "python",
   "nbconvert_exporter": "python",
   "pygments_lexer": "ipython3",
   "version": "3.10.6"
  }
 },
 "nbformat": 4,
 "nbformat_minor": 5
}
